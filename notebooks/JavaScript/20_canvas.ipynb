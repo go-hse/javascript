{
 "cells": [
  {
   "cell_type": "code",
   "execution_count": 1,
   "id": "3ee1e214-6a56-48d3-a447-334860213397",
   "metadata": {},
   "outputs": [
    {
     "data": {
      "image/png": "[encoded data removed]"
     },
     "metadata": {},
     "output_type": "display_data"
    },
    {
     "name": "stdout",
     "output_type": "stream",
     "text": [
      "done \u001b[35m2024-09-30T06:16:31.099Z\u001b[39m\n"
     ]
    }
   ],
   "source": [
    "import * as skiaCanvas from \"https://deno.land/x/skia_canvas/mod.ts\";\n",
    "import { display } from \"https://deno.land/x/display/mod.ts\";\n",
    "\n",
    "const canvas = skiaCanvas.createCanvas(300, 300);\n",
    "const context = canvas.getContext(\"2d\");\n",
    "\n",
    "context.resetTransform();\n",
    "context.clearRect(0, 0, canvas.width, canvas.height);\n",
    "\n",
    "function line(ctx, x1, y1, x2, y2, strokeStyle = \"#fff\", lineWidth = 1) {\n",
    "    ctx.lineWidth = lineWidth;\n",
    "    ctx.strokeStyle = strokeStyle;\n",
    "    ctx.beginPath();\n",
    "    ctx.moveTo(x1, y1);\n",
    "    ctx.lineTo(x2, y2);\n",
    "    ctx.stroke();\n",
    "}\n",
    "\n",
    "line(context, 0, 0, canvas.width, canvas.height, \"#f00\");\n",
    "\n",
    "await display(canvas);\n",
    "\n",
    "console.log(\"done\", new Date());"
   ]
  }
 ],
 "metadata": {
  "kernelspec": {
   "display_name": "Deno 2024.09.30 8:13:18",
   "language": "typescript",
   "name": "deno"
  },
  "language_info": {
   "codemirror_mode": "typescript",
   "file_extension": ".ts",
   "mimetype": "text/x.typescript",
   "name": "typescript",
   "nbconvert_exporter": "script",
   "pygments_lexer": "typescript",
   "version": "5.6.2"
  }
 },
 "nbformat": 4,
 "nbformat_minor": 5
}
