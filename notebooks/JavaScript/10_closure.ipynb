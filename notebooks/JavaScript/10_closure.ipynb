{
  "cells": [
    {
      "cell_type": "markdown",
      "metadata": {},
      "source": [
        "# Understanding Closures in JavaScript"
      ]
    },
    {
      "cell_type": "markdown",
      "metadata": {},
      "source": [
        "A **closure** is a fundamental concept in JavaScript that allows a function to retain access to its lexical scope (the environment where it was created), even when the function is executed outside that scope. Closures are used frequently in JavaScript, especially in more complex programs such as event handlers, asynchronous operations, and functional programming patterns.\n",
        "\n",
        "Closures are created every time a function is declared. When a function is returned from another function, it maintains a reference to its lexical scope, which enables it to access variables that were present in the outer function, even after the outer function has completed its execution.\n",
        "\n",
        "In simpler terms, a closure gives you access to an outer function's scope from an inner function."
      ]
    },
    {
      "cell_type": "markdown",
      "metadata": {},
      "source": [
        "## Example of a Closure\n",
        "\n",
        "Let's start with a basic example to understand closures in action:\n",
        "```javascript\n",
        "function outerFunction() {\n",
        "    let outerVariable = 'I am from the outer function';\n",
        "    \n",
        "    function innerFunction() {\n",
        "        console.log(outerVariable); // Accessing a variable from the outer function\n",
        "    }\n",
        "    \n",
        "    return innerFunction;\n",
        "}\n",
        "\n",
        "const closureFunc = outerFunction(); // outerFunction executes and returns innerFunction\n",
        "closureFunc(); // Executes innerFunction, which accesses outerVariable\n",
        "```\n",
        "### Explanation:\n",
        "- **outerFunction()** defines a variable `outerVariable` and an inner function `innerFunction`.\n",
        "- `innerFunction` has access to the variables of `outerFunction`, even after `outerFunction` has finished executing.\n",
        "- When we call `closureFunc()`, which is the returned `innerFunction`, it can still access `outerVariable` due to closure."
      ]
    },
    {
      "cell_type": "markdown",
      "metadata": {},
      "source": [
        "## Closures and Lexical Scoping\n",
        "\n",
        "Closures rely on **lexical scoping** to retain access to variables. Lexical scoping means that a function's ability to access variables is determined by where it is physically written in the source code, not where it is called from.\n",
        "\n",
        "```javascript\n",
        "function outerFunction(outerValue) {\n",
        "    return function innerFunction(innerValue) {\n",
        "        console.log('Outer value: ', outerValue);\n",
        "        console.log('Inner value: ', innerValue);\n",
        "    };\n",
        "}\n",
        "\n",
        "const closure1 = outerFunction('Closure 1');\n",
        "const closure2 = outerFunction('Closure 2');\n",
        "\n",
        "closure1('Hello'); // Outer value: Closure 1, Inner value: Hello\n",
        "closure2('World'); // Outer value: Closure 2, Inner value: World\n",
        "```\n",
        "### Explanation:\n",
        "- Each call to `outerFunction` returns a new `innerFunction` with its own **closure**.\n",
        "- Each returned `innerFunction` holds a reference to the `outerValue` from the corresponding `outerFunction` call.\n",
        "- Even though `outerFunction` has completed execution, the returned `innerFunction` still \"remembers\" the variables (`outerValue`) that were in scope when it was created."
      ]
    },
    {
      "cell_type": "markdown",
      "metadata": {},
      "source": [
        "## Practical Use Cases of Closures\n",
        "\n",
        "Closures are widely used in JavaScript, especially in situations involving callback functions, event listeners, or functions that need to maintain state across multiple calls.\n",
        "\n",
        "### 1. Data Privacy / Encapsulation\n",
        "Closures are often used to **encapsulate data** and simulate private variables. Since JavaScript does not have a native way to create private variables in functions, closures can be used to hide data from the outside world.\n",
        "\n",
        "```javascript\n",
        "function counter() {\n",
        "    let count = 0; // 'count' is a private variable\n",
        "    \n",
        "    return function() {\n",
        "        count++;\n",
        "        return count;\n",
        "    };\n",
        "}\n",
        "\n",
        "const increment = counter();\n",
        "console.log(increment()); // 1\n",
        "console.log(increment()); // 2\n",
        "console.log(increment()); // 3\n",
        "```\n",
        "### Explanation:\n",
        "- The variable `count` is not accessible from the outside, but each invocation of `increment` can modify and access it due to the closure."
      ]
    },
    {
      "cell_type": "markdown",
      "metadata": {},
      "source": [
        "### 2. Callback Functions\n",
        "Closures are frequently used with **callback functions** to retain access to a particular scope even after an asynchronous operation has completed.\n",
        "\n",
        "```javascript\n",
        "function fetchData(url) {\n",
        "    let cache = {};\n",
        "    return function(callback) {\n",
        "        if (cache[url]) {\n",
        "            callback(cache[url]); // Cached result\n",
        "        } else {\n",
        "            setTimeout(() => { // Simulating an async operation\n",
        "                cache[url] = 'fetched data';\n",
        "                callback(cache[url]);\n",
        "            }, 1000);\n",
        "        }\n",
        "    };\n",
        "}\n",
        "\n",
        "const getData = fetchData('https://api.example.com');\n",
        "getData(console.log); // Logs 'fetched data' after 1 second\n",
        "```\n",
        "### Explanation:\n",
        "- In this example, the inner function retains access to the `url` and `cache` variables, even after the `fetchData` function has completed."
      ]
    },
    {
      "cell_type": "markdown",
      "metadata": {},
      "source": [
        "## Potential Pitfalls of Closures\n",
        "\n",
        "While closures are incredibly powerful, they can sometimes cause problems if not used carefully:\n",
        "\n",
        "### 1. Memory Leaks\n",
        "Closures can inadvertently cause **memory leaks** by holding references to variables in their outer scope, preventing those variables from being garbage collected when they are no longer needed.\n",
        "\n",
        "### 2. Overuse\n",
        "Using closures everywhere can lead to code that is difficult to debug or maintain, especially if the state is being preserved in unpredictable ways. Make sure to use them judiciously where they add clarity or solve specific problems."
      ]
    },
    {
      "cell_type": "markdown",
      "metadata": {},
      "source": [
        "## Conclusion\n",
        "\n",
        "Closures are a core concept in JavaScript that enable powerful patterns in programming. By giving functions access to variables from their outer scope even after that scope has finished execution, they provide a way to maintain state, create data privacy, and manage asynchronous operations. However, it's important to use closures carefully to avoid issues such as memory leaks or unnecessarily complex code."
      ]
    }
  ],
  "metadata": {
    "kernelspec": {
      "display_name": "JavaScript",
      "language": "javascript",
      "name": "javascript"
    },
    "language_info": {
      "codemirror_mode": {
        "name": "javascript",
        "version": 3
      },
      "file_extension": ".js",
      "mimetype": "application/javascript",
      "name": "javascript",
      "version": "ES6"
    }
  },
  "nbformat": 4,
  "nbformat_minor": 5
}